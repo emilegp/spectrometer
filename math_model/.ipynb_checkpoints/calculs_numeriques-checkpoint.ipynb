{
 "cells": [
  {
   "cell_type": "code",
   "execution_count": 1,
   "id": "933ad8ac-b24e-458e-86ff-743497922e45",
   "metadata": {
    "execution": {
     "iopub.execute_input": "2024-10-27T12:47:50.407901Z",
     "iopub.status.busy": "2024-10-27T12:47:50.407512Z",
     "iopub.status.idle": "2024-10-27T12:47:51.012014Z",
     "shell.execute_reply": "2024-10-27T12:47:51.011177Z",
     "shell.execute_reply.started": "2024-10-27T12:47:50.407863Z"
    }
   },
   "outputs": [],
   "source": [
    "import numpy as np\n",
    "import matplotlib.pyplot as plt"
   ]
  },
  {
   "cell_type": "code",
   "execution_count": null,
   "id": "a7938c89-4d4a-4831-9b03-e86ab48225a2",
   "metadata": {},
   "outputs": [],
   "source": []
  }
 ],
 "metadata": {
  "kernelspec": {
   "display_name": "Python 3 (ipykernel)",
   "language": "python",
   "name": "python3"
  },
  "language_info": {
   "codemirror_mode": {
    "name": "ipython",
    "version": 3
   },
   "file_extension": ".py",
   "mimetype": "text/x-python",
   "name": "python",
   "nbconvert_exporter": "python",
   "pygments_lexer": "ipython3",
   "version": "3.12.7"
  }
 },
 "nbformat": 4,
 "nbformat_minor": 5
}
